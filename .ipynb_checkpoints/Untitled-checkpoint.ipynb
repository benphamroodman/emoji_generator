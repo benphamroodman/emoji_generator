{
 "cells": [
  {
   "cell_type": "code",
   "execution_count": 1,
   "id": "76f5384f-f7b8-4892-8937-d3981d07c5ce",
   "metadata": {},
   "outputs": [],
   "source": [
    "from pilmoji import Pilmoji\n",
    "from PIL import Image, ImageFont\n",
    "\n",
    "\n",
    "my_string = '''\n",
    "Hello, world! 👋 Here are some emojis: 🎨 🌊 😎\n",
    "I also support Discord emoji: <:rooThink:596576798351949847>\n",
    "'''\n",
    "\n",
    "with Image.new('RGB', (550, 80), (255, 255, 255)) as image:\n",
    "    font = ImageFont.truetype('arial.ttf', 24)\n",
    "\n",
    "    with Pilmoji(image) as pilmoji:\n",
    "        pilmoji.text((10, 10), my_string.strip(), (0, 0, 0), font)\n",
    "\n",
    "    image.show()"
   ]
  },
  {
   "cell_type": "code",
   "execution_count": null,
   "id": "9039c551-f502-4c07-8e34-de62bc2a9fb2",
   "metadata": {},
   "outputs": [],
   "source": []
  }
 ],
 "metadata": {
  "kernelspec": {
   "display_name": "Python 3 (ipykernel)",
   "language": "python",
   "name": "python3"
  },
  "language_info": {
   "codemirror_mode": {
    "name": "ipython",
    "version": 3
   },
   "file_extension": ".py",
   "mimetype": "text/x-python",
   "name": "python",
   "nbconvert_exporter": "python",
   "pygments_lexer": "ipython3",
   "version": "3.8.19"
  }
 },
 "nbformat": 4,
 "nbformat_minor": 5
}
