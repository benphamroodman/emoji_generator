{
 "cells": [
  {
   "cell_type": "markdown",
   "id": "046d1010-702f-49ef-bbd3-39582911212d",
   "metadata": {},
   "source": [
    "# Load unicode emojis dataset"
   ]
  },
  {
   "cell_type": "code",
   "execution_count": 1,
   "id": "af27abef-4d27-4135-b9c7-bbd9326f83e3",
   "metadata": {},
   "outputs": [],
   "source": [
    "import pandas as pd\n",
    "\n",
    "path_to_dataset = \"unicode_emojis_kaggle_df.csv\"\n",
    "try:\n",
    "    import google.colab\n",
    "    from google.colab import drive\n",
    "    drive.mount('/content/drive')\n",
    "\n",
    "    IN_COLAB = True\n",
    "except:\n",
    "    IN_COLAB = False\n",
    "    \n",
    "colab_path = \"/content/drive/MyDrive/Colab Notebooks/NTU_DA/\" #CHANGE THIS\n",
    "\n",
    "path_to_fonts = \"fonts/\"\n",
    "processed_data_folder = \"processed/\"\n",
    "\n",
    "if IN_COLAB:\n",
    "    path_to_dataset = colab_path + path_to_dataset\n",
    "    path_to_fonts = colab_path + path_to_fonts\n",
    "    processed_data_folder = colab_path + processed_data_folder\n",
    "\n",
    "database = pd.read_csv(path_to_dataset)"
   ]
  },
  {
   "cell_type": "code",
   "execution_count": 2,
   "id": "b946a22c-b318-48ec-93e2-006db73ff8c6",
   "metadata": {},
   "outputs": [],
   "source": [
    "## USING PILLOW\n",
    "## Remove rows of emojis not supported by PIL ImageDraw (non-default skin tones)\n",
    "# skin_tone_labels = [\"light skin tone\", \"medium-light skin tone\", \"medium skin tone\", \"medium-dark skin tone\", \"dark skin tone\"]\n",
    "# emoji_names = database['name'].tolist()\n",
    "\n",
    "# rows_with_nondefault_tone = []\n",
    "# for i in range(len(emoji_names)):\n",
    "#     is_not_default_tone = False\n",
    "#     for tone_label in skin_tone_labels:\n",
    "#         if tone_label in emoji_names[i]:\n",
    "#             is_not_default_tone = True\n",
    "#     if is_not_default_tone:\n",
    "#         rows_with_nondefault_tone.append(i)\n",
    "\n",
    "# database = database.drop(rows_with_nondefault_tone)\n",
    "all_emojis = database['emoji'].tolist()"
   ]
  },
  {
   "cell_type": "markdown",
   "id": "83c255f2-2dd9-4f35-8ac3-0bdc15acce5e",
   "metadata": {},
   "source": [
    "# Load the font, get all the emoji bboxes and find the maximum width and height"
   ]
  },
  {
   "cell_type": "code",
   "execution_count": 3,
   "id": "cc9ec2b6-9632-4920-a34c-3b4dd6f99098",
   "metadata": {},
   "outputs": [
    {
     "name": "stdout",
     "output_type": "stream",
     "text": [
      "463 109\n"
     ]
    }
   ],
   "source": [
    "from PIL import Image, ImageDraw, ImageFont\n",
    "import PIL\n",
    "import numpy as np\n",
    "\n",
    "\n",
    "### Load the font\n",
    "\n",
    "## bit-map based, src: https://github.com/googlefonts/noto-emoji/blob/main/fonts/NotoColorEmoji.ttf\n",
    "font_name = \"NotoColorEmoji.ttf\"\n",
    "font_size = 109 # Cannot be changed\n",
    "\n",
    "## bit-map based, src: https://github.com/samuelngs/apple-emoji-linux/releases\n",
    "# font_name = \"AppleColorEmoji.ttf\"\n",
    "# font_size = 137 # Cannot be changed\n",
    "\n",
    "## font from here: https://fontsdata.com/132714/segoeuiemoji.htm (for test only), svg-based, works with different font size\n",
    "# font_name = \"seguiemj.ttf\"\n",
    "# font_size = 50 # Can be changed\n",
    "\n",
    "unicode_font = ImageFont.truetype(path_to_fonts + font_name, font_size)\n",
    "sample_count = len(all_emojis)\n",
    "\n",
    "### Get bboxes\n",
    "\n",
    "## USING PILLOW\n",
    "# bboxes = np.zeros((len(all_emojis), 4))\n",
    "# not_supported_cnt = 0\n",
    "# for i in range(sample_count):\n",
    "#     for ii in range(4):\n",
    "#         bbox = unicode_font.getmask(all_emojis[i]).getbbox()\n",
    "#         if bbox == None: # if emoji is not supported by the font\n",
    "#             not_supported_cnt += 1\n",
    "#             print(\"Warning::font does not support emoji number {}\".format(i))\n",
    "#             bboxes[i, 0] = np.nan\n",
    "#             continue\n",
    "#         bboxes[i, ii] = bbox[ii]\n",
    "# widths  = bboxes[:, 2] - bboxes[:, 0]\n",
    "# heights = bboxes[:, 3] - bboxes[:, 1]\n",
    "\n",
    "## USING PILMOJI\n",
    "from pilmoji import Pilmoji\n",
    "\n",
    "widths = np.zeros((sample_count))\n",
    "heights = np.zeros((sample_count))\n",
    "not_supported_cnt = 0\n",
    "for i in range(sample_count):\n",
    "    im = Image.new(\"RGB\", (1, 1), (255, 255, 255))\n",
    "    size = Pilmoji(im).getsize(text=all_emojis[i], font=unicode_font)\n",
    "\n",
    "    widths[i] = size[0]\n",
    "    heights[i] = size[1]\n",
    "\n",
    "max_width  = int(np.nanmax(widths))\n",
    "max_height = int(np.nanmax(heights))\n",
    "\n",
    "print(max_width, max_height)\n",
    "\n",
    "\n",
    "### Print information to a file\n",
    "\n",
    "with open(processed_data_folder + 'unicode_emojis_info.txt', 'w') as f:\n",
    "    print(\"sample_count:{}\\nwidth:{}\\nheight:{}\".format(len(all_emojis) - not_supported_cnt, max_width, max_height), file=f)"
   ]
  },
  {
   "cell_type": "markdown",
   "id": "c0253234-4731-4681-86d6-569595338a2f",
   "metadata": {},
   "source": [
    "# Export emojis to images with uniform size"
   ]
  },
  {
   "cell_type": "code",
   "execution_count": null,
   "id": "0f3af509-0d02-4e04-a944-19955d642d41",
   "metadata": {},
   "outputs": [],
   "source": [
    "## USING PILLOW\n",
    "# for i in range(len(all_emojis)):\n",
    "#     bbox = bboxes[i, :]\n",
    "#     if not np.isnan(bbox[0]): # Avoid emojis that are not supported by the font\n",
    "#         im = Image.new(\"RGB\", (max_width, max_height), (255, 255, 255))\n",
    "    \n",
    "#         w_margin = (max_width  - (bbox[2] - bbox[0])) // 2 - bbox[0] \n",
    "#         h_margin = (max_height - (bbox[3] - bbox[1])) // 2 - bbox[1] \n",
    "        \n",
    "#         ImageDraw.Draw(im).text((w_margin, h_margin), all_emojis[i], font=unicode_font, embedded_color=True)\n",
    "#         im.save(processed_data_folder + \"unicode_emoji_{}.png\".format(i))\n",
    "\n",
    "\n",
    "## USING PILMOJI\n",
    "for i in range(len(all_emojis)):\n",
    "    im = Image.new(\"RGB\", (max_width, max_height), (255, 255, 255))\n",
    "    size = Pilmoji(im).getsize(text=all_emojis[i], font=unicode_font)\n",
    "\n",
    "    w_margin = (max_width  - size[0]) // 2\n",
    "    h_margin = (max_height - size[1]) // 2\n",
    "    \n",
    "    # font = ImageFont.truetype('arial.ttf', 24)\n",
    "    Pilmoji(im).text((w_margin, h_margin), all_emojis[i], font=unicode_font, embedded_color=True)\n",
    "    im.save(processed_data_folder + \"unicode_emoji_{}.png\".format(i))"
   ]
  },
  {
   "cell_type": "code",
   "execution_count": null,
   "id": "6d60097e-af64-4d7e-820f-54c235d0f49f",
   "metadata": {},
   "outputs": [],
   "source": []
  }
 ],
 "metadata": {
  "kernelspec": {
   "display_name": "Python 3 (ipykernel)",
   "language": "python",
   "name": "python3"
  },
  "language_info": {
   "codemirror_mode": {
    "name": "ipython",
    "version": 3
   },
   "file_extension": ".py",
   "mimetype": "text/x-python",
   "name": "python",
   "nbconvert_exporter": "python",
   "pygments_lexer": "ipython3",
   "version": "3.8.19"
  }
 },
 "nbformat": 4,
 "nbformat_minor": 5
}
