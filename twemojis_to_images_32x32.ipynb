{
 "cells": [
  {
   "cell_type": "markdown",
   "metadata": {},
   "source": [
    "# Load Twemojis dataset"
   ]
  },
  {
   "cell_type": "code",
   "execution_count": 6,
   "metadata": {},
   "outputs": [],
   "source": [
    "import pandas as pd\n",
    "from os import listdir\n",
    "from os.path import isfile, join\n",
    "from PIL import Image\n",
    "import numpy as np\n",
    "import matplotlib.pyplot as plt\n",
    "\n",
    "\n",
    "try:\n",
    "    import google.colab\n",
    "    from google.colab import drive\n",
    "    drive.mount('/content/drive')\n",
    "\n",
    "    IN_COLAB = True\n",
    "except:\n",
    "    IN_COLAB = False\n",
    "    \n",
    "colab_path = \"\" #CHANGE THIS\n",
    "\n",
    "original_dataroot = \"twemojis_72x72\" \n",
    "processed_data_folder = \"processed_twemojis_32x32/\"\n",
    "\n",
    "if IN_COLAB:\n",
    "    original_dataroot = colab_path + original_dataroot\n",
    "    processed_data_folder = colab_path + processed_data_folder\n",
    "\n",
    "onlyfiles = [f for f in listdir(original_dataroot) if isfile(join(original_dataroot, f))]\n",
    "\n",
    "sample_count = 0\n",
    "for file in onlyfiles:\n",
    "    if \".png\" in file:\n",
    "        sample_count += 1\n",
    "\n",
    "i = 0\n",
    "\n",
    "for file in onlyfiles:\n",
    "    if \".png\" in file:\n",
    "        img = Image.open(original_dataroot + \"/\" + file).resize((32,32))\n",
    "        img.save(processed_data_folder + \"/\" + file)\n",
    "        i += 1\n",
    "\n"
   ]
  }
 ],
 "metadata": {
  "kernelspec": {
   "display_name": "Python 3 (ipykernel)",
   "language": "python",
   "name": "python3"
  },
  "language_info": {
   "codemirror_mode": {
    "name": "ipython",
    "version": 3
   },
   "file_extension": ".py",
   "mimetype": "text/x-python",
   "name": "python",
   "nbconvert_exporter": "python",
   "pygments_lexer": "ipython3",
   "version": "3.8.19"
  }
 },
 "nbformat": 4,
 "nbformat_minor": 4
}
