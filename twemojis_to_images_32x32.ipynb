{
 "cells": [
  {
   "cell_type": "markdown",
   "metadata": {},
   "source": [
    "# Load Twemojis dataset"
   ]
  },
  {
   "cell_type": "code",
   "execution_count": 11,
   "metadata": {},
   "outputs": [
    {
     "ename": "ModuleNotFoundError",
     "evalue": "No module named 'pandas'",
     "output_type": "error",
     "traceback": [
      "\u001b[1;31m---------------------------------------------------------------------------\u001b[0m",
      "\u001b[1;31mModuleNotFoundError\u001b[0m                       Traceback (most recent call last)",
      "Cell \u001b[1;32mIn[11], line 1\u001b[0m\n\u001b[1;32m----> 1\u001b[0m \u001b[38;5;28;01mimport\u001b[39;00m \u001b[38;5;21;01mpandas\u001b[39;00m \u001b[38;5;28;01mas\u001b[39;00m \u001b[38;5;21;01mpd\u001b[39;00m\n\u001b[0;32m      3\u001b[0m path_to_dataset \u001b[38;5;241m=\u001b[39m \u001b[38;5;124m\"\u001b[39m\u001b[38;5;124municode_emojis_kaggle_df.csv\u001b[39m\u001b[38;5;124m\"\u001b[39m\n\u001b[0;32m      4\u001b[0m \u001b[38;5;28;01mtry\u001b[39;00m:\n",
      "\u001b[1;31mModuleNotFoundError\u001b[0m: No module named 'pandas'"
     ]
    }
   ],
   "source": [
    "import pandas as pd\n",
    "\n",
    "path_to_dataset = \"unicode_emojis_kaggle_df.csv\"\n",
    "try:\n",
    "    import google.colab\n",
    "    from google.colab import drive\n",
    "    drive.mount('/content/drive')\n",
    "\n",
    "    IN_COLAB = True\n",
    "except:\n",
    "    IN_COLAB = False\n",
    "    \n",
    "colab_path = \"\" #CHANGE THIS\n",
    "\n",
    "path_to_fonts = \"fonts/\"\n",
    "processed_data_folder = \"processed_twemojis_32x32/\"\n",
    "\n",
    "if IN_COLAB:\n",
    "    path_to_dataset = colab_path + path_to_dataset\n",
    "    path_to_fonts = colab_path + path_to_fonts\n",
    "    processed_data_folder = colab_path + processed_data_folder\n",
    "\n",
    "database = pd.read_csv(path_to_dataset)\n",
    "all_emojis = database['emoji'].tolist()"
   ]
  },
  {
   "cell_type": "markdown",
   "metadata": {},
   "source": [
    "# # Load the font, get all the emoji boxes and find the maximum width and height"
   ]
  },
  {
   "cell_type": "code",
   "execution_count": null,
   "metadata": {},
   "outputs": [],
   "source": [
    "from PIL import Image, ImageDraw, ImageFont\n",
    "import PIL\n",
    "import numpy as np\n",
    "\n",
    "\n",
    "### Load the font\n",
    "# unicode_font = ImageFont.truetype('arial.ttf', 64)\n",
    "font_name = \"seguiemj.ttf\"\n",
    "font_size = 64\n",
    "unicode_font = ImageFont.truetype(path_to_fonts + font_name, font_size)\n",
    "\n",
    "sample_count = len(all_emojis)\n",
    "\n",
    "\n",
    "## USING PILMOJI\n",
    "from pilmoji import Pilmoji\n",
    "\n",
    "widths = np.zeros((sample_count))\n",
    "heights = np.zeros((sample_count))\n",
    "not_supported_cnt = 0\n",
    "for i in range(sample_count):\n",
    "    im = Image.new(\"RGB\", (1, 1), (255, 255, 255))\n",
    "    size = Pilmoji(im).getsize(text=all_emojis[i], font=unicode_font)\n",
    "\n",
    "    widths[i] = size[0]\n",
    "    heights[i] = size[1]\n",
    "\n",
    "max_width  = int(np.nanmax(widths))\n",
    "max_height = int(np.nanmax(heights))\n",
    "\n",
    "print(max_width, max_height)\n",
    "max_width = 32 #Overwrite width to be 32\n",
    "\n",
    "\n",
    "### Print information to a file\n",
    "\n",
    "with open(processed_data_folder + 'unicode_emojis_info.txt', 'w') as f:\n",
    "    print(\"sample_count:{}\\nwidth:{}\\nheight:{}\".format(len(all_emojis) - not_supported_cnt, max_width, max_height), file=f)"
   ]
  },
  {
   "cell_type": "markdown",
   "metadata": {},
   "source": [
    "# Export emojis to images with uniform size"
   ]
  },
  {
   "cell_type": "code",
   "execution_count": null,
   "metadata": {},
   "outputs": [],
   "source": [
    "## USING PILMOJI\n",
    "for i in range(len(all_emojis)):\n",
    "    im = Image.new(\"RGB\", (max_width, max_height), (255, 255, 255))\n",
    "    size = Pilmoji(im).getsize(text=all_emojis[i], font=unicode_font)\n",
    "\n",
    "    w_margin = (max_width  - size[0]) // 2\n",
    "    h_margin = (max_height - size[1]) // 2\n",
    "    \n",
    "    # font = ImageFont.truetype('arial.ttf', 24)\n",
    "    Pilmoji(im).text((w_margin, h_margin), all_emojis[i], font=unicode_font, embedded_color=True)\n",
    "    im.save(processed_data_folder + \"unicode_emoji_{}.png\".format(i))"
   ]
  }
 ],
 "metadata": {
  "kernelspec": {
   "display_name": "Python 3",
   "language": "python",
   "name": "python3"
  },
  "language_info": {
   "codemirror_mode": {
    "name": "ipython",
    "version": 3
   },
   "file_extension": ".py",
   "mimetype": "text/x-python",
   "name": "python",
   "nbconvert_exporter": "python",
   "pygments_lexer": "ipython3",
   "version": "3.12.3"
  }
 },
 "nbformat": 4,
 "nbformat_minor": 2
}
