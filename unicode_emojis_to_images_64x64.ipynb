{
 "cells": [
  {
   "cell_type": "markdown",
   "id": "046d1010-702f-49ef-bbd3-39582911212d",
   "metadata": {},
   "source": [
    "# Load unicode emojis dataset"
   ]
  },
  {
   "cell_type": "code",
   "execution_count": 1,
   "id": "af27abef-4d27-4135-b9c7-bbd9326f83e3",
   "metadata": {},
   "outputs": [],
   "source": [
    "import pandas as pd\n",
    "\n",
    "path_to_dataset = \"unicode_emojis_kaggle_df.csv\"\n",
    "try:\n",
    "    import google.colab\n",
    "    from google.colab import drive\n",
    "    drive.mount('/content/drive')\n",
    "\n",
    "    IN_COLAB = True\n",
    "except:\n",
    "    IN_COLAB = False\n",
    "    \n",
    "colab_path = \"/content/drive/MyDrive/Colab Notebooks/NTU_AI/\" #CHANGE THIS\n",
    "\n",
    "path_to_fonts = \"fonts/\"\n",
    "processed_data_folder = \"processed_64x64/\"\n",
    "\n",
    "if IN_COLAB:\n",
    "    path_to_dataset = colab_path + path_to_dataset\n",
    "    path_to_fonts = colab_path + path_to_fonts\n",
    "    processed_data_folder = colab_path + processed_data_folder\n",
    "\n",
    "database = pd.read_csv(path_to_dataset)\n",
    "all_emojis = database['emoji'].tolist()"
   ]
  },
  {
   "cell_type": "markdown",
   "id": "83c255f2-2dd9-4f35-8ac3-0bdc15acce5e",
   "metadata": {},
   "source": [
    "# Load the font, get all the emoji bboxes and find the maximum width and height"
   ]
  },
  {
   "cell_type": "code",
   "execution_count": 2,
   "id": "cc9ec2b6-9632-4920-a34c-3b4dd6f99098",
   "metadata": {},
   "outputs": [
    {
     "name": "stdout",
     "output_type": "stream",
     "text": [
      "377 64\n"
     ]
    }
   ],
   "source": [
    "from PIL import Image, ImageDraw, ImageFont\n",
    "import PIL\n",
    "import numpy as np\n",
    "\n",
    "\n",
    "### Load the font\n",
    "# unicode_font = ImageFont.truetype('arial.ttf', 64)\n",
    "font_name = \"seguiemj.ttf\"\n",
    "font_size = 64\n",
    "unicode_font = ImageFont.truetype(path_to_fonts + font_name, font_size)\n",
    "\n",
    "sample_count = len(all_emojis)\n",
    "\n",
    "\n",
    "## USING PILMOJI\n",
    "from pilmoji import Pilmoji\n",
    "\n",
    "widths = np.zeros((sample_count))\n",
    "heights = np.zeros((sample_count))\n",
    "not_supported_cnt = 0\n",
    "for i in range(sample_count):\n",
    "    im = Image.new(\"RGB\", (1, 1), (255, 255, 255))\n",
    "    size = Pilmoji(im).getsize(text=all_emojis[i], font=unicode_font)\n",
    "\n",
    "    widths[i] = size[0]\n",
    "    heights[i] = size[1]\n",
    "\n",
    "max_width  = int(np.nanmax(widths))\n",
    "max_height = int(np.nanmax(heights))\n",
    "\n",
    "print(max_width, max_height)\n",
    "max_width = 64 #Overwrite width to be 64\n",
    "\n",
    "\n",
    "### Print information to a file\n",
    "\n",
    "with open(processed_data_folder + 'unicode_emojis_info.txt', 'w') as f:\n",
    "    print(\"sample_count:{}\\nwidth:{}\\nheight:{}\".format(len(all_emojis) - not_supported_cnt, max_width, max_height), file=f)"
   ]
  },
  {
   "cell_type": "markdown",
   "id": "c0253234-4731-4681-86d6-569595338a2f",
   "metadata": {},
   "source": [
    "# Export emojis to images with uniform size"
   ]
  },
  {
   "cell_type": "code",
   "execution_count": 3,
   "id": "0f3af509-0d02-4e04-a944-19955d642d41",
   "metadata": {},
   "outputs": [],
   "source": [
    "## USING PILMOJI\n",
    "for i in range(len(all_emojis)):\n",
    "    im = Image.new(\"RGB\", (max_width, max_height), (255, 255, 255))\n",
    "    size = Pilmoji(im).getsize(text=all_emojis[i], font=unicode_font)\n",
    "\n",
    "    w_margin = (max_width  - size[0]) // 2\n",
    "    h_margin = (max_height - size[1]) // 2\n",
    "    \n",
    "    # font = ImageFont.truetype('arial.ttf', 24)\n",
    "    Pilmoji(im).text((w_margin, h_margin), all_emojis[i], font=unicode_font, embedded_color=True)\n",
    "    im.save(processed_data_folder + \"unicode_emoji_{}.png\".format(i))"
   ]
  },
  {
   "cell_type": "code",
   "execution_count": null,
   "id": "6d60097e-af64-4d7e-820f-54c235d0f49f",
   "metadata": {},
   "outputs": [],
   "source": []
  }
 ],
 "metadata": {
  "kernelspec": {
   "display_name": "Python 3 (ipykernel)",
   "language": "python",
   "name": "python3"
  },
  "language_info": {
   "codemirror_mode": {
    "name": "ipython",
    "version": 3
   },
   "file_extension": ".py",
   "mimetype": "text/x-python",
   "name": "python",
   "nbconvert_exporter": "python",
   "pygments_lexer": "ipython3",
   "version": "3.8.19"
  }
 },
 "nbformat": 4,
 "nbformat_minor": 5
}
